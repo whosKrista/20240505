{
 "cells": [
  {
   "cell_type": "code",
   "execution_count": 4,
   "metadata": {},
   "outputs": [
    {
     "name": "stdout",
     "output_type": "stream",
     "text": [
      "請輸入查詢數值:12的因數有：X\n",
      "X\n",
      "X\n",
      "X\n",
      "5\n",
      "X\n",
      "7\n",
      "8\n",
      "9\n",
      "10\n",
      "11\n",
      "X\n"
     ]
    }
   ],
   "source": [
    "import pyinputplus as pypi\n",
    "\n",
    "mun = pypi.inputInt('請輸入查詢數值:',min=1)\n",
    "print(f'{mun}的因數有：',end='')\n",
    "\n",
    "for i in range(1,mun+1):\n",
    "    if mun%i:\n",
    "        print(i)\n",
    "    else:\n",
    "        print('X')\n"
   ]
  }
 ],
 "metadata": {
  "kernelspec": {
   "display_name": "Python 3",
   "language": "python",
   "name": "python3"
  },
  "language_info": {
   "codemirror_mode": {
    "name": "ipython",
    "version": 3
   },
   "file_extension": ".py",
   "mimetype": "text/x-python",
   "name": "python",
   "nbconvert_exporter": "python",
   "pygments_lexer": "ipython3",
   "version": "3.10.14"
  }
 },
 "nbformat": 4,
 "nbformat_minor": 2
}
