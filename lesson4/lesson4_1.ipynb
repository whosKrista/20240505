{
 "cells": [
  {
   "cell_type": "code",
   "execution_count": 2,
   "metadata": {},
   "outputs": [
    {
     "name": "stdout",
     "output_type": "stream",
     "text": [
      "value1的平均是7\n",
      "values1的標準差是5.94418483337567\n",
      "========================\n",
      "value2的平均是7\n",
      "values2的標準差是1.8257418583505538\n"
     ]
    }
   ],
   "source": [
    "import statistics\n",
    "values1 = [0, 5, 9, 14]\n",
    "values2 = [5, 6, 8, 9]\n",
    "\n",
    "average1 = statistics.mean(values1)#平均值mean()\n",
    "average2 = statistics.mean(values2)\n",
    "std1 = statistics.stdev(values1)#標準差stdev()\n",
    "std2 = statistics.stdev(values2)\n",
    "\n",
    "print(f\"value1的平均是{average1}\")\n",
    "print(f\"values1的標準差是{std1}\")\n",
    "print(\"========================\")\n",
    "print(f\"value2的平均是{average2}\")\n",
    "print(f\"values2的標準差是{std2}\")"
   ]
  },
  {
   "cell_type": "code",
   "execution_count": 3,
   "metadata": {},
   "outputs": [
    {
     "name": "stdout",
     "output_type": "stream",
     "text": [
      "50\n"
     ]
    }
   ],
   "source": [
    "n=10\n",
    "n *= 5\n",
    "print(n)"
   ]
  },
  {
   "cell_type": "code",
   "execution_count": 5,
   "metadata": {},
   "outputs": [
    {
     "name": "stdout",
     "output_type": "stream",
     "text": [
      "26.7+84.64+50.5=161.84\n"
     ]
    }
   ],
   "source": [
    "all=0\n",
    "x=float(input('請輸入第一個數:'))\n",
    "all+=x\n",
    "\n",
    "y=float(input('請輸入第二個數:'))\n",
    "all+=y\n",
    "\n",
    "z=float(input('請輸入第三個數:'))\n",
    "all+=z\n",
    "\n",
    "print(f'{x}+{y}+{z}={round(all,ndigits=2)}')"
   ]
  }
 ],
 "metadata": {
  "kernelspec": {
   "display_name": "Python 3",
   "language": "python",
   "name": "python3"
  },
  "language_info": {
   "codemirror_mode": {
    "name": "ipython",
    "version": 3
   },
   "file_extension": ".py",
   "mimetype": "text/x-python",
   "name": "python",
   "nbconvert_exporter": "python",
   "pygments_lexer": "ipython3",
   "version": "3.10.14"
  }
 },
 "nbformat": 4,
 "nbformat_minor": 2
}
